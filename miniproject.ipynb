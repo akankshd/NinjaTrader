{
  "nbformat": 4,
  "nbformat_minor": 0,
  "metadata": {
    "colab": {
      "provenance": [],
      "private_outputs": true,
      "gpuType": "T4",
      "include_colab_link": true
    },
    "kernelspec": {
      "name": "python3",
      "display_name": "Python 3"
    },
    "language_info": {
      "name": "python"
    },
    "accelerator": "GPU"
  },
  "cells": [
    {
      "cell_type": "markdown",
      "metadata": {
        "id": "view-in-github",
        "colab_type": "text"
      },
      "source": [
        "<a href=\"https://colab.research.google.com/github/akankshd/NinjaTrader/blob/main/miniproject.ipynb\" target=\"_parent\"><img src=\"https://colab.research.google.com/assets/colab-badge.svg\" alt=\"Open In Colab\"/></a>"
      ]
    },
    {
      "cell_type": "markdown",
      "source": [
        "# **ACADEMIC PERFORMANCE AND STUDENT'S LIFESTYLE**\n",
        "\n",
        "**"
      ],
      "metadata": {
        "id": "aNtfun7a41VJ"
      }
    },
    {
      "cell_type": "markdown",
      "source": [
        "Person 1, person 2, person 3, person 4\n"
      ],
      "metadata": {
        "id": "LskS_HYQas1o"
      }
    },
    {
      "cell_type": "markdown",
      "source": [
        "# **Question 1: What data do you have?**"
      ],
      "metadata": {
        "id": "5t9sfVM9avdV"
      }
    },
    {
      "cell_type": "markdown",
      "source": [
        "A survey has been conducted and includes answers from classes on campus such as cs111, cs105, and cs010c. This survey has a collection of questions from all different groups in our cs105 class.  The data consists of a survey with various questions related to college students' demographics, academic background, extracurricular involvement, hobbies, stress levels, and music preferences."
      ],
      "metadata": {
        "id": "6CI27u0ma4CI"
      }
    },
    {
      "cell_type": "markdown",
      "source": [
        "# **Quesition 2: What do you want to know about the data?**"
      ],
      "metadata": {
        "id": "8JdXiTjqfwrL"
      }
    },
    {
      "cell_type": "markdown",
      "source": [],
      "metadata": {
        "id": "ZGM8x1Axf6xW"
      }
    },
    {
      "cell_type": "markdown",
      "source": [
        "# **Question 3: Data Visiualizaton **"
      ],
      "metadata": {
        "id": "yU6D5YvigeEK"
      }
    },
    {
      "cell_type": "code",
      "source": [
        "import pandas as pd\n",
        "import matplotlib.pyplot as plt\n",
        "import seaborn as sns\n",
        "\n",
        "# Load the CSV file\n",
        "file_path = 'cs105.csv'\n",
        "data = pd.read_csv(file_path)\n",
        "\n",
        "# Extract the column for GPA\n",
        "gpa_column_name = 'What is your current cumulative GPA?'\n",
        "if gpa_column_name in data.columns:\n",
        "    # Plot the GPA distribution\n",
        "    plt.figure(figsize=(8, 6))\n",
        "    sns.countplot(data=data, x=gpa_column_name, palette=\"coolwarm\", order=data[gpa_column_name].value_counts().index)\n",
        "    plt.title(\"GPA Distribution\")\n",
        "    plt.xlabel(\"Cumulative GPA Ranges\")\n",
        "    plt.ylabel(\"Frequency\")\n",
        "    plt.xticks(rotation=45)\n",
        "    plt.show()\n"
      ],
      "metadata": {
        "id": "zPC1dp_CppxK"
      },
      "execution_count": null,
      "outputs": []
    },
    {
      "cell_type": "markdown",
      "source": [
        "Analysis:\n"
      ],
      "metadata": {
        "id": "BRveLrrpV3sd"
      }
    },
    {
      "cell_type": "code",
      "source": [
        "import pandas as pd\n",
        "import matplotlib.pyplot as plt\n",
        "import seaborn as sns\n",
        "\n",
        "file_path = 'cs105.csv'\n",
        "data = pd.read_csv(file_path)\n",
        "\n",
        "study_column = 'How many hours a week do you spend studying?'\n",
        "free_time_column = 'How much free time would you say you have a day on average?'\n",
        "\n",
        "if study_column in data.columns and free_time_column in data.columns:\n",
        "    grouped_data = data.groupby([study_column, free_time_column]).size().reset_index(name='Count')\n",
        "\n",
        "    # create a bar plot with study hours on the x-axis and free time as hue\n",
        "    plt.figure(figsize=(12, 8))\n",
        "    sns.barplot(\n",
        "        data=grouped_data,\n",
        "        x=study_column,\n",
        "        y='Count',\n",
        "        hue=free_time_column,\n",
        "        palette=\"coolwarm\"\n",
        "    )\n",
        "    plt.title(\"Distribution of Study Hours by Free Time\")\n",
        "    plt.xlabel(\"Study Hours per Week\")\n",
        "    plt.ylabel(\"Number of Students\")\n",
        "    plt.legend(title=\"Free Time per Day (Hours)\", bbox_to_anchor=(1, 1))\n",
        "    plt.xticks(rotation=45)\n",
        "    plt.show()\n",
        "\n"
      ],
      "metadata": {
        "id": "k1bLsmWKVlZy"
      },
      "execution_count": null,
      "outputs": []
    },
    {
      "cell_type": "code",
      "source": [],
      "metadata": {
        "id": "j_6MXmJlVl7t"
      },
      "execution_count": null,
      "outputs": []
    },
    {
      "cell_type": "markdown",
      "source": [],
      "metadata": {
        "id": "wYH_yxoLb6A1"
      }
    },
    {
      "cell_type": "code",
      "source": [],
      "metadata": {
        "id": "4Dmepi7hVjzR"
      },
      "execution_count": null,
      "outputs": []
    },
    {
      "cell_type": "markdown",
      "source": [],
      "metadata": {
        "id": "Mfkvj6BnbqVU"
      }
    }
  ]
}